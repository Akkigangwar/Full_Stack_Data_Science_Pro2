{
 "cells": [
  {
   "cell_type": "code",
   "execution_count": 5,
   "id": "13c6b6ec-eca8-427b-974f-fd0839a5e0a3",
   "metadata": {},
   "outputs": [],
   "source": [
    "# Python Basics Variable"
   ]
  },
  {
   "cell_type": "code",
   "execution_count": 1,
   "id": "5f19b4c8-41bf-467e-8f68-4c95d0b3085a",
   "metadata": {},
   "outputs": [],
   "source": [
    "# Que.1\n",
    "# Ans.\n",
    "x = 5\n",
    "y = 10\n",
    "\n",
    "#After swapping X and Y, we get \n",
    "\n",
    "x = 10\n",
    "y = 5\n",
    "\n"
   ]
  },
  {
   "cell_type": "code",
   "execution_count": 13,
   "id": "276c59d7-72ff-4ca1-af36-30c5357117b7",
   "metadata": {},
   "outputs": [
    {
     "name": "stdin",
     "output_type": "stream",
     "text": [
      "Please Enter the Width of a Rectangle:  10\n",
      "Please Enter the Lenght of a Rectangle:  5\n"
     ]
    },
    {
     "name": "stdout",
     "output_type": "stream",
     "text": [
      "\n",
      " Area of a Rectangle is: 50.00\n"
     ]
    }
   ],
   "source": [
    "# Que.2\n",
    "# Ans.\n",
    "w = float(input('Please Enter the Width of a Rectangle: '))\n",
    "l = float(input('Please Enter the Lenght of a Rectangle: '))\n",
    " \n",
    "# calculate the area\n",
    "Area = w * l\n",
    "print(\"\\n Area of a Rectangle is: %.2f\" %Area)"
   ]
  },
  {
   "cell_type": "code",
   "execution_count": 4,
   "id": "8451d5b1-6fe8-41ca-9aef-4d817a6354eb",
   "metadata": {},
   "outputs": [
    {
     "name": "stdout",
     "output_type": "stream",
     "text": [
      " The converted value is  104.0 Fahrenhiet\n"
     ]
    }
   ],
   "source": [
    "# Que.3\n",
    "# Ans.\n",
    "celsius = 40\n",
    "fahrenheit = (celsius * 1.8) + 32 # Converted to fahrenheit.\n",
    "print(\" The converted value is \" , fahrenheit,\"Fahrenhiet\")"
   ]
  },
  {
   "cell_type": "code",
   "execution_count": 7,
   "id": "1e89a370-c7de-4e17-b8fa-bd76ba744368",
   "metadata": {},
   "outputs": [],
   "source": [
    "##  String Based Questions"
   ]
  },
  {
   "cell_type": "code",
   "execution_count": 1,
   "id": "f331e266-70e4-4fcb-810c-981e5dda2968",
   "metadata": {},
   "outputs": [
    {
     "data": {
      "text/plain": [
       "8"
      ]
     },
     "execution_count": 1,
     "metadata": {},
     "output_type": "execute_result"
    }
   ],
   "source": [
    "# Que.1\n",
    "# Ans.\n",
    "l = [1,2,3,4,5,6,7,8]\n",
    "len(l)"
   ]
  },
  {
   "cell_type": "code",
   "execution_count": 38,
   "id": "e72b181c-c240-42dd-ad20-60772456eddd",
   "metadata": {},
   "outputs": [
    {
     "name": "stdin",
     "output_type": "stream",
     "text": [
      "Enter the sentence Akhilesh\n"
     ]
    },
    {
     "name": "stdout",
     "output_type": "stream",
     "text": [
      "2\n"
     ]
    }
   ],
   "source": [
    "# Que.2\n",
    "# Ans.\n",
    "l = ['a','e','i','o','u']\n",
    "sentence = input(\"Enter the sentence\")  # user input\n",
    "count = 0\n",
    "\n",
    "for char in sentence: # create a loop for cou\n",
    "    if char in l:\n",
    "        count = count + 1\n",
    "print(count)        "
   ]
  },
  {
   "cell_type": "code",
   "execution_count": 11,
   "id": "737d0d68-0064-490f-93c3-e09bf291e223",
   "metadata": {},
   "outputs": [
    {
     "data": {
      "text/plain": [
       "[322.23, 'Akhil', 7, 6, 5, 4, 3, 2, 1]"
      ]
     },
     "execution_count": 11,
     "metadata": {},
     "output_type": "execute_result"
    }
   ],
   "source": [
    "# Que.3\n",
    "# Ans.\n",
    "l = [1,2,3,4,5,6,7,\"Akhil\",322.23]\n",
    "l[::-1]     # Reversed the list"
   ]
  },
  {
   "cell_type": "code",
   "execution_count": 13,
   "id": "397279a5-8f0f-473f-ae35-b7b60be7a9ea",
   "metadata": {},
   "outputs": [
    {
     "data": {
      "text/plain": [
       "[1, 2, 3, 2, 1]"
      ]
     },
     "execution_count": 13,
     "metadata": {},
     "output_type": "execute_result"
    }
   ],
   "source": [
    "# Que.4\n",
    "# Ans.\n",
    "l = [1,2,3,2,1]  # its palindrome no.\n",
    "\n",
    "l[::-1] # it is backwards\n",
    "l[0::] # it is forwords"
   ]
  },
  {
   "cell_type": "code",
   "execution_count": 37,
   "id": "c93fc922-e103-4ecb-acee-aa3fd1dcc9ae",
   "metadata": {},
   "outputs": [
    {
     "data": {
      "text/plain": [
       "'HelloAkhil'"
      ]
     },
     "execution_count": 37,
     "metadata": {},
     "output_type": "execute_result"
    }
   ],
   "source": [
    "# Que.5\n",
    "# Ans.\n",
    "\n",
    "l = \"  Hello  Akhil  \"\n",
    "l.replace(\" \", \"\")    # Use replace all the remove space."
   ]
  },
  {
   "cell_type": "code",
   "execution_count": null,
   "id": "e87200d9-96f8-49fd-ac17-e7b39eea6038",
   "metadata": {},
   "outputs": [],
   "source": []
  }
 ],
 "metadata": {
  "kernelspec": {
   "display_name": "Python 3 (ipykernel)",
   "language": "python",
   "name": "python3"
  },
  "language_info": {
   "codemirror_mode": {
    "name": "ipython",
    "version": 3
   },
   "file_extension": ".py",
   "mimetype": "text/x-python",
   "name": "python",
   "nbconvert_exporter": "python",
   "pygments_lexer": "ipython3",
   "version": "3.10.8"
  }
 },
 "nbformat": 4,
 "nbformat_minor": 5
}
